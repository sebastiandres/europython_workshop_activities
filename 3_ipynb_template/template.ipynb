{
 "cells": [
  {
   "cell_type": "code",
   "execution_count": 7,
   "metadata": {
    "slideshow": {
     "slide_type": "skip"
    }
   },
   "outputs": [
    {
     "data": {
      "text/plain": [
       "{'theme': 'simple', 'transition': 'fade'}"
      ]
     },
     "execution_count": 7,
     "metadata": {},
     "output_type": "execute_result"
    }
   ],
   "source": [
    "#!/usr/bin/env python3\n",
    "from traitlets.config.manager import BaseJSONConfigManager\n",
    "from pathlib import Path\n",
    "path = Path.home() / \".jupyter\" / \"nbconfig\"\n",
    "cm = BaseJSONConfigManager(config_dir=str(path))\n",
    "cm.update(\n",
    "    \"rise\",\n",
    "    {\n",
    "        \"transition\": \"fade\",\n",
    "        \"theme\": \"simple\",\n",
    "    }\n",
    ")"
   ]
  },
  {
   "cell_type": "code",
   "execution_count": 2,
   "metadata": {
    "slideshow": {
     "slide_type": "skip"
    }
   },
   "outputs": [],
   "source": [
    "%matplotlib inline"
   ]
  },
  {
   "cell_type": "markdown",
   "metadata": {
    "slideshow": {
     "slide_type": "slide"
    }
   },
   "source": [
    "## Requirements for conference slides\n",
    "\n",
    "1. Slide theme & transitions\n",
    "2. Slide creation\n",
    "3. Text customization (color, size, fragments)\n",
    "4. Control on text alignment\n",
    "5. Images & videos\n",
    "6. Columns\n",
    "7. Export to pdf and html\n",
    "8. Displaying and executing code\n",
    "9. Speaker notes\n",
    "10. Background customization"
   ]
  },
  {
   "cell_type": "markdown",
   "metadata": {
    "slideshow": {
     "slide_type": "slide"
    }
   },
   "source": [
    "###  Notes: \n",
    "\n",
    "1. The outputs of the cells are shown by default, so make sure to clean the output before doing your presentation!\n",
    "2. The presentation starts at your current cell."
   ]
  },
  {
   "cell_type": "markdown",
   "metadata": {
    "slideshow": {
     "slide_type": "slide"
    }
   },
   "source": [
    "## 1. Slide theme and transitions"
   ]
  },
  {
   "cell_type": "code",
   "execution_count": 6,
   "metadata": {},
   "outputs": [
    {
     "data": {
      "text/plain": [
       "{'theme': 'simple', 'transition': 'none'}"
      ]
     },
     "execution_count": 6,
     "metadata": {},
     "output_type": "execute_result"
    }
   ],
   "source": [
    "#!/usr/bin/env python3\n",
    "from traitlets.config.manager import BaseJSONConfigManager\n",
    "from pathlib import Path\n",
    "path = Path.home() / \".jupyter\" / \"nbconfig\"\n",
    "cm = BaseJSONConfigManager(config_dir=str(path))\n",
    "cm.update(\n",
    "    \"rise\",\n",
    "    {\n",
    "        \"theme\": \"simple\",\n",
    "        \"transition\": \"none\",\n",
    "    }\n",
    ")"
   ]
  },
  {
   "cell_type": "markdown",
   "metadata": {},
   "source": [
    "\n",
    "Transition options: fade, slide, convex, concave, zoom  \n",
    "\n",
    "Theme options: simple, black, beige, blood, dark, default, league, moon, night, serif, simple, sky, solarized"
   ]
  },
  {
   "cell_type": "markdown",
   "metadata": {
    "slideshow": {
     "slide_type": "slide"
    }
   },
   "source": [
    "## 2. Slide creation\n",
    "\n",
    "Easy! Create new cells and mark them as \"Slides\"\n",
    "\n",
    "Titles are created with `#` and section titles with `##`, and so on."
   ]
  },
  {
   "cell_type": "markdown",
   "metadata": {
    "slideshow": {
     "slide_type": "slide"
    }
   },
   "source": [
    "## MY TALK NAME\n",
    "### PLACE - DATE\n",
    "### MY NAME"
   ]
  },
  {
   "cell_type": "markdown",
   "metadata": {
    "slideshow": {
     "slide_type": "slide"
    }
   },
   "source": [
    "## 3. Text customization: color, size, etc.\n",
    "\n",
    "Use markdown or html.\n",
    "\n",
    "<span style=\"color: red\">Text</span> can be <span style=\"font-size: 50px;\">personalized</span> \n",
    "with standard **html** or *css* properties"
   ]
  },
  {
   "cell_type": "markdown",
   "metadata": {
    "slideshow": {
     "slide_type": "slide"
    }
   },
   "source": [
    "\n",
    "## 3. Text customization: color, size, etc.\n",
    "\n",
    "Apply the class `fragment` to control the text flow.\n",
    "\n",
    "<p class=\"fragment\">Appears last</p>\n",
    "<p class=\"fragment\">Appears first</p>\n",
    "<p class=\"fragment\">Appears second</p>"
   ]
  },
  {
   "cell_type": "markdown",
   "metadata": {
    "slideshow": {
     "slide_type": "slide"
    }
   },
   "source": [
    "<p class=\"fragment\" data-fragment-index=\"3\">Appears last</p>\n",
    "<p class=\"fragment\" data-fragment-index=\"1\">Appears first</p>\n",
    "<p class=\"fragment\" data-fragment-index=\"2\">Appears second</p>"
   ]
  },
  {
   "cell_type": "markdown",
   "metadata": {
    "slideshow": {
     "slide_type": "slide"
    }
   },
   "source": [
    "## 4. Control on text alignment: horizontal\n",
    "\n",
    "Use a div with text-align to control the text horizontal alignment: left, center, right.\n",
    "\n",
    "\n",
    "<div  style=\"text-align: left\">\n",
    "This is a left-aligned text.\n",
    "</div>\n",
    "\n",
    "<div style=\"text-align: center\">\n",
    "This is a centered text.\n",
    "</div>\n",
    "\n",
    "<div style=\"text-align: right\">\n",
    "This is a right-aligned text.\n",
    "</div>"
   ]
  },
  {
   "cell_type": "markdown",
   "metadata": {
    "slideshow": {
     "slide_type": "slide"
    }
   },
   "source": [
    "\n",
    "## 4. Control on text alignment: vertical\n",
    "\n",
    "<br><br><br><br><br>\n",
    "I have not found a better way than just inserting a lot of line breaks: `<br>`"
   ]
  },
  {
   "cell_type": "code",
   "execution_count": 5,
   "metadata": {},
   "outputs": [
    {
     "name": "stdout",
     "output_type": "stream",
     "text": [
      "example_video.mp4\r\n"
     ]
    }
   ],
   "source": [
    "!ls videos"
   ]
  },
  {
   "cell_type": "markdown",
   "metadata": {
    "slideshow": {
     "slide_type": "slide"
    }
   },
   "source": [
    "\n",
    "## 5. Images centered\n",
    "\n",
    "```\n",
    "![](images/example_image.png)\n",
    "```\n",
    "\n",
    "![](images/example_image.png)"
   ]
  },
  {
   "cell_type": "markdown",
   "metadata": {
    "slideshow": {
     "slide_type": "slide"
    }
   },
   "source": [
    "\n",
    "## 5. Videos\n",
    "\n",
    "```\n",
    "<video width=\"600\" height=\"400\" controls>\n",
    "  <source src=\"./videos/example_video.mp4\" type=\"video/mp4\">\n",
    "</video>\n",
    "```\n",
    "\n",
    "<video width=\"600\" height=\"400\" controls>\n",
    "  <source src=\"./videos/example_video.mp4\" type=\"video/mp4\">\n",
    "</video>"
   ]
  },
  {
   "cell_type": "markdown",
   "metadata": {
    "slideshow": {
     "slide_type": "slide"
    }
   },
   "source": [
    "\n",
    "## 6. Columns\n",
    "\n",
    "You can have multiple columns in a single slide, with different widths."
   ]
  },
  {
   "cell_type": "markdown",
   "metadata": {},
   "source": [
    "<div>\n",
    "    <div style=\"display: inline-block;  width: 40%;\">\n",
    "Lorem ipsum dolor sit amet, consectetur adipiscing elit, sed do eiusmod tempor incididunt \n",
    "ut labore et dolore magna aliqua. Ut enim ad minim veniam, quis nostrud exercitation ullamco \n",
    "laboris nisi ut aliquip ex ea commodo consequat. Duis aute irure dolor in reprehenderit in \n",
    "voluptate velit esse cillum dolore eu fugiat nulla pariatur. Excepteur sint occaecat cupidatat \n",
    "non proident, sunt in culpa qui officia deserunt mollit anim id est laborum.\n",
    "    </div>\n",
    "    <div style=\"display: inline-block; vertical-align: text-bottom; width: 50%;\">\n",
    "Lorem ipsum dolor sit amet, consectetur adipiscing elit, sed do eiusmod tempor incididunt \n",
    "ut labore et dolore magna aliqua. Ut enim ad minim veniam, quis nostrud exercitation ullamco \n",
    "laboris nisi ut aliquip ex ea commodo consequat. Duis aute irure dolor in reprehenderit in \n",
    "voluptate velit esse cillum dolore eu fugiat nulla pariatur. Excepteur sint occaecat cupidatat \n",
    "non proident, sunt in culpa qui officia deserunt mollit anim id est laborum.\n",
    "    </div>\n",
    "</div>"
   ]
  },
  {
   "cell_type": "markdown",
   "metadata": {
    "slideshow": {
     "slide_type": "slide"
    }
   },
   "source": [
    "\n",
    "## 7. Export to pdf and html\n",
    "\n",
    "- The html ..\n",
    "- The pdf ..."
   ]
  },
  {
   "cell_type": "markdown",
   "metadata": {
    "slideshow": {
     "slide_type": "slide"
    }
   },
   "source": [
    "## 8. Displaying and executing code\n",
    "\n",
    "You have 2 options:\n",
    "\n",
    "1. Put the code on a markdown cell: non executable\n",
    "2. Put the code on a code cell: executable"
   ]
  },
  {
   "cell_type": "markdown",
   "metadata": {
    "slideshow": {
     "slide_type": "slide"
    }
   },
   "source": [
    "## Displaying code\n",
    "\n",
    "```python\n",
    "greeting = \"Hello\"\n",
    "name = \"World\"\n",
    "print(greeting, name, sep=\" \")\n",
    "```"
   ]
  },
  {
   "cell_type": "markdown",
   "metadata": {
    "slideshow": {
     "slide_type": "slide"
    }
   },
   "source": [
    "## Executing code"
   ]
  },
  {
   "cell_type": "code",
   "execution_count": 3,
   "metadata": {},
   "outputs": [
    {
     "name": "stdout",
     "output_type": "stream",
     "text": [
      "Hello World\n"
     ]
    }
   ],
   "source": [
    "greeting = \"Hello\"\n",
    "name = \"World\"\n",
    "print(greeting, name, sep=\" \")"
   ]
  },
  {
   "cell_type": "code",
   "execution_count": 2,
   "metadata": {
    "slideshow": {
     "slide_type": "fragment"
    }
   },
   "outputs": [
    {
     "data": {
      "text/plain": [
       "['🐔', '🥚']"
      ]
     },
     "execution_count": 2,
     "metadata": {},
     "output_type": "execute_result"
    }
   ],
   "source": [
    "# What's first, the egg or the chicken?\n",
    "sorted(['\\N{EGG}', '\\N{CHICKEN}'])"
   ]
  },
  {
   "cell_type": "markdown",
   "metadata": {
    "slideshow": {
     "slide_type": "slide"
    }
   },
   "source": [
    "\n",
    "## 9. Speaker notes\n",
    "\n",
    "To open the speaker notes, ...\n"
   ]
  },
  {
   "cell_type": "markdown",
   "metadata": {
    "slideshow": {
     "slide_type": "slide"
    }
   },
   "source": [
    "## 10. Background customization\n",
    "\n",
    "You can customize the background of the slides, using regular html/css.\n"
   ]
  }
 ],
 "metadata": {
  "celltoolbar": "Slideshow",
  "kernelspec": {
   "display_name": "Python 3 (ipykernel)",
   "language": "python",
   "name": "python3"
  },
  "language_info": {
   "codemirror_mode": {
    "name": "ipython",
    "version": 3
   },
   "file_extension": ".py",
   "mimetype": "text/x-python",
   "name": "python",
   "nbconvert_exporter": "python",
   "pygments_lexer": "ipython3",
   "version": "3.11.1"
  }
 },
 "nbformat": 4,
 "nbformat_minor": 4
}
